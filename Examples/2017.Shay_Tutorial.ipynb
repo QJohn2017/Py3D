{
 "cells": [
  {
   "cell_type": "markdown",
   "metadata": {},
   "source": [
    "# Before you Start\n",
    "You need to have ipython installed (I have been using python 2.x  (python3.x compatability is in the works!)\n",
    "\n",
    "## Installing ipython\n",
    "Look into anaconda its a distribution that contains all of the nice python stuff I use\n",
    "https://www.anaconda.com/distribution/\n",
    "\n",
    "Py3D uses a few different powerfull packages including *numpy* prounced *num-pie* For arrays and fast processing, *matplotlib* prounced mat-plot-lib for making pretty plots, *scipy* pronounced *sigh-pie* which is really (or at least was) the umbrela package for a bunch of other stuff. All of these packages are contained within anaconda which is why I am recomeding it.\n",
    "\n",
    "To get started use `ipython --pylab` in termial to start the python shell.\n",
    "\n",
    "## Getting Py3D\n",
    "You can either fork your own branch (if you are going to make edits that other people might use. Or you can just clone a branch to the machine you need it on. Either way here is the repository\n",
    "\n",
    "https://github.com/colbych/Py3D\n",
    "\n",
    "## Setting up ipython_config file\n",
    "Navigate to ~/.ipython/profile_default/startup/ and make/add the follwing text to the file ipython_config.py"
   ]
  },
  {
   "cell_type": "code",
   "execution_count": 6,
   "metadata": {
    "collapsed": true,
    "scrolled": false
   },
   "outputs": [],
   "source": [
    "import sys\n",
    "import os\n",
    "\n",
    "sys.path.append(os.path.expanduser('~/Py3D'))\n",
    "import Py3D"
   ]
  },
  {
   "cell_type": "markdown",
   "metadata": {},
   "source": [
    "# Using Py3D\n",
    "If everthing is correctly install when you start ipython Py3D should already be loaded. To test this type:"
   ]
  },
  {
   "cell_type": "code",
   "execution_count": 7,
   "metadata": {
    "collapsed": true
   },
   "outputs": [],
   "source": [
    "Py3D?"
   ]
  },
  {
   "cell_type": "markdown",
   "metadata": {},
   "source": [
    "If everthing worked correctly then you should see somthing like the following bellow:\n",
    "```\n",
    "Type:        module\n",
    "String form: <module 'Py3D' from '/glade/u/home/colbyh/Py3D/Py3D/__init__.pyc'>\n",
    "File:        ~/Py3D/Py3D/__init__.py\n",
    "Docstring:   <no docstring>\n",
    "```\n",
    "Although idealy there will be a Docstring ¯\\\\\\_(ツ)\\_/¯\n",
    "\n",
    "## Py3D functions:\n",
    "These are the functions that I most commonly use. And they can be used for basic analysis of P3D data.\n",
    "To learn more about each of these methods just execute the code in the kernal.\n",
    "\n",
    "### Py3D.load_movie"
   ]
  },
  {
   "cell_type": "code",
   "execution_count": 8,
   "metadata": {
    "collapsed": true
   },
   "outputs": [],
   "source": [
    "Py3D.load_movie?"
   ]
  },
  {
   "cell_type": "markdown",
   "metadata": {},
   "source": [
    "Try it out here: Test files can be found here: `./test_data/OTV_2D_test` with a param file called `param_OTV_2D_test`"
   ]
  },
  {
   "cell_type": "code",
   "execution_count": null,
   "metadata": {},
   "outputs": [],
   "source": [
    "d = Py3D.load_movie()"
   ]
  },
  {
   "cell_type": "markdown",
   "metadata": {},
   "source": [
    "Alternetivly you can pass all of that information as arguments!"
   ]
  },
  {
   "cell_type": "code",
   "execution_count": 9,
   "metadata": {},
   "outputs": [
    {
     "ename": "IOError",
     "evalue": "[Errno 2] No such file or directory: '/Users/haggerty/Programing/pythonprogs/Py3D/Examples/param_OTV_2D_test'",
     "output_type": "error",
     "traceback": [
      "\u001b[0;31m---------------------------------------------------------------------------\u001b[0m",
      "\u001b[0;31mIOError\u001b[0m                                   Traceback (most recent call last)",
      "\u001b[0;32m<ipython-input-9-330d31e4d544>\u001b[0m in \u001b[0;36m<module>\u001b[0;34m()\u001b[0m\n\u001b[0;32m----> 1\u001b[0;31m \u001b[0md\u001b[0m \u001b[0;34m=\u001b[0m \u001b[0mPy3D\u001b[0m\u001b[0;34m.\u001b[0m\u001b[0mload_movie\u001b[0m\u001b[0;34m(\u001b[0m\u001b[0mnum\u001b[0m\u001b[0;34m=\u001b[0m\u001b[0;36m0\u001b[0m\u001b[0;34m,\u001b[0m \u001b[0mparam\u001b[0m\u001b[0;34m=\u001b[0m\u001b[0;34m'param_OTV_2D_test'\u001b[0m\u001b[0;34m,\u001b[0m \u001b[0mpath\u001b[0m\u001b[0;34m=\u001b[0m\u001b[0;34m'./test_data/OTV_2D_test'\u001b[0m\u001b[0;34m)\u001b[0m\u001b[0;34m\u001b[0m\u001b[0m\n\u001b[0m",
      "\u001b[0;32m/Users/haggerty/Py3D/Py3D/sub.pyc\u001b[0m in \u001b[0;36mload_movie\u001b[0;34m(num, param, path, vrs, time, slc, name_style)\u001b[0m\n\u001b[1;32m    358\u001b[0m \u001b[0;34m\u001b[0m\u001b[0m\n\u001b[1;32m    359\u001b[0m     \u001b[0;32mif\u001b[0m \u001b[0mname_style\u001b[0m \u001b[0;32mis\u001b[0m \u001b[0;34m'p3d'\u001b[0m\u001b[0;34m:\u001b[0m\u001b[0;34m\u001b[0m\u001b[0m\n\u001b[0;32m--> 360\u001b[0;31m         \u001b[0;32mreturn\u001b[0m \u001b[0mMovie\u001b[0m\u001b[0;34m(\u001b[0m\u001b[0mnum\u001b[0m\u001b[0;34m,\u001b[0m\u001b[0mparam\u001b[0m\u001b[0;34m,\u001b[0m\u001b[0mpath\u001b[0m\u001b[0;34m)\u001b[0m\u001b[0;34m.\u001b[0m\u001b[0mget_fields\u001b[0m\u001b[0;34m(\u001b[0m\u001b[0mvrs\u001b[0m\u001b[0;34m,\u001b[0m\u001b[0mtime\u001b[0m\u001b[0;34m,\u001b[0m\u001b[0mslc\u001b[0m\u001b[0;34m)\u001b[0m\u001b[0;34m\u001b[0m\u001b[0m\n\u001b[0m\u001b[1;32m    361\u001b[0m     \u001b[0;32melif\u001b[0m \u001b[0mname_style\u001b[0m\u001b[0;34m.\u001b[0m\u001b[0mlower\u001b[0m\u001b[0;34m(\u001b[0m\u001b[0;34m)\u001b[0m \u001b[0;32min\u001b[0m \u001b[0;34m[\u001b[0m\u001b[0;34m'tulasi'\u001b[0m\u001b[0;34m,\u001b[0m \u001b[0;34m'unfinished'\u001b[0m\u001b[0;34m]\u001b[0m \u001b[0;34m:\u001b[0m\u001b[0;34m\u001b[0m\u001b[0m\n\u001b[1;32m    362\u001b[0m         \u001b[0;32mfrom\u001b[0m \u001b[0mPy3D\u001b[0m\u001b[0;34m.\u001b[0m\u001b[0mmovie\u001b[0m \u001b[0;32mimport\u001b[0m \u001b[0mUnfinishedMovie\u001b[0m\u001b[0;34m\u001b[0m\u001b[0m\n",
      "\u001b[0;32m/Users/haggerty/Py3D/Py3D/movie.pyc\u001b[0m in \u001b[0;36m__init__\u001b[0;34m(self, num, param_file, path)\u001b[0m\n\u001b[1;32m     17\u001b[0m         \u001b[0mself\u001b[0m\u001b[0;34m.\u001b[0m\u001b[0m_name_sty\u001b[0m  \u001b[0;34m=\u001b[0m \u001b[0;34m'movie.{0}.{1}'\u001b[0m\u001b[0;34m\u001b[0m\u001b[0m\n\u001b[1;32m     18\u001b[0m         \u001b[0mself\u001b[0m\u001b[0;34m.\u001b[0m\u001b[0mpath\u001b[0m       \u001b[0;34m=\u001b[0m \u001b[0mself\u001b[0m\u001b[0;34m.\u001b[0m\u001b[0m_get_movie_path\u001b[0m\u001b[0;34m(\u001b[0m\u001b[0mpath\u001b[0m\u001b[0;34m)\u001b[0m\u001b[0;34m\u001b[0m\u001b[0m\n\u001b[0;32m---> 19\u001b[0;31m         \u001b[0mself\u001b[0m\u001b[0;34m.\u001b[0m\u001b[0mparam\u001b[0m      \u001b[0;34m=\u001b[0m \u001b[0mload_param\u001b[0m\u001b[0;34m(\u001b[0m\u001b[0mparam_file\u001b[0m\u001b[0;34m,\u001b[0m \u001b[0mpath\u001b[0m\u001b[0;34m=\u001b[0m\u001b[0mself\u001b[0m\u001b[0;34m.\u001b[0m\u001b[0mpath\u001b[0m\u001b[0;34m)\u001b[0m\u001b[0;34m\u001b[0m\u001b[0m\n\u001b[0m\u001b[1;32m     20\u001b[0m         \u001b[0mself\u001b[0m\u001b[0;34m.\u001b[0m\u001b[0mnum\u001b[0m        \u001b[0;34m=\u001b[0m \u001b[0mself\u001b[0m\u001b[0;34m.\u001b[0m\u001b[0m_get_movie_num\u001b[0m\u001b[0;34m(\u001b[0m\u001b[0mnum\u001b[0m\u001b[0;34m)\u001b[0m\u001b[0;34m\u001b[0m\u001b[0m\n\u001b[1;32m     21\u001b[0m         \u001b[0mself\u001b[0m\u001b[0;34m.\u001b[0m\u001b[0mmovie_vars\u001b[0m \u001b[0;34m=\u001b[0m \u001b[0mself\u001b[0m\u001b[0;34m.\u001b[0m\u001b[0m_get_movie_vars\u001b[0m\u001b[0;34m(\u001b[0m\u001b[0;34m)\u001b[0m\u001b[0;34m\u001b[0m\u001b[0m\n",
      "\u001b[0;32m/Users/haggerty/Py3D/Py3D/_methods.pyc\u001b[0m in \u001b[0;36mload_param\u001b[0;34m(param_file, path)\u001b[0m\n\u001b[1;32m     15\u001b[0m     \u001b[0mfname\u001b[0m \u001b[0;34m=\u001b[0m \u001b[0mos\u001b[0m\u001b[0;34m.\u001b[0m\u001b[0mpath\u001b[0m\u001b[0;34m.\u001b[0m\u001b[0mabspath\u001b[0m\u001b[0;34m(\u001b[0m\u001b[0mos\u001b[0m\u001b[0;34m.\u001b[0m\u001b[0mpath\u001b[0m\u001b[0;34m.\u001b[0m\u001b[0mexpandvars\u001b[0m\u001b[0;34m(\u001b[0m\u001b[0mparam\u001b[0m\u001b[0;34m[\u001b[0m\u001b[0;34m'file'\u001b[0m\u001b[0;34m]\u001b[0m\u001b[0;34m)\u001b[0m\u001b[0;34m)\u001b[0m\u001b[0;34m\u001b[0m\u001b[0m\n\u001b[1;32m     16\u001b[0m \u001b[0;34m\u001b[0m\u001b[0m\n\u001b[0;32m---> 17\u001b[0;31m     \u001b[0;32mwith\u001b[0m \u001b[0mopen\u001b[0m\u001b[0;34m(\u001b[0m\u001b[0mfname\u001b[0m\u001b[0;34m)\u001b[0m \u001b[0;32mas\u001b[0m \u001b[0mf\u001b[0m\u001b[0;34m:\u001b[0m\u001b[0;34m\u001b[0m\u001b[0m\n\u001b[0m\u001b[1;32m     18\u001b[0m         \u001b[0mcontent\u001b[0m \u001b[0;34m=\u001b[0m \u001b[0mf\u001b[0m\u001b[0;34m.\u001b[0m\u001b[0mreadlines\u001b[0m\u001b[0;34m(\u001b[0m\u001b[0;34m)\u001b[0m\u001b[0;34m\u001b[0m\u001b[0m\n\u001b[1;32m     19\u001b[0m \u001b[0;34m\u001b[0m\u001b[0m\n",
      "\u001b[0;31mIOError\u001b[0m: [Errno 2] No such file or directory: '/Users/haggerty/Programing/pythonprogs/Py3D/Examples/param_OTV_2D_test'"
     ]
    }
   ],
   "source": [
    "d = Py3D.load_movie(num=0, param='param_OTV_2D_test', path='./test_data/OTV_2D_test')"
   ]
  },
  {
   "cell_type": "markdown",
   "metadata": {
    "collapsed": true
   },
   "source": [
    "Now `d` is a dictionary containing all of the field information from the movies. Most of this code is set up to work with a dictonary. Lets look at some of the data."
   ]
  },
  {
   "cell_type": "code",
   "execution_count": null,
   "metadata": {
    "collapsed": true
   },
   "outputs": [],
   "source": [
    "for k in d:\n",
    "    print k, d[k].shape\n",
    "    \n",
    "d['bx'][0,:]\n"
   ]
  },
  {
   "cell_type": "markdown",
   "metadata": {},
   "source": [
    "### A side note about plotting\n",
    "Py3D uses the matplotlib module for plotting (in particular it uses matplotlib.pyplot). pyplot works with figures and  axes, a figure is a window that axes can be added to, and axes are where plots can be made."
   ]
  },
  {
   "cell_type": "code",
   "execution_count": null,
   "metadata": {
    "collapsed": true
   },
   "outputs": [],
   "source": [
    "import matplotlib.pyplot as plt\n",
    "\n",
    "fig = plt.figure(1)\n",
    "ax = fig.add_subplot(1,1,1)"
   ]
  },
  {
   "cell_type": "markdown",
   "metadata": {},
   "source": [
    "Note if you are running this in ipython with the --pylab flag the same result can be acomplished with the command\n",
    "\n",
    "    ax = suplot(1,1,1)\n",
    "Then you can plot a graph in an axes:"
   ]
  },
  {
   "cell_type": "code",
   "execution_count": null,
   "metadata": {
    "collapsed": true
   },
   "outputs": [],
   "source": [
    "ax.plot(range(10), range(10), 'k-')\n",
    "ax.plot(range(10), [c**2 for c in range(10)], 'r+--')\n",
    "ax.plot(range(10), [c**3 for c in range(10)], 'b*')\n",
    "plt.show()\n",
    "plt.draw()"
   ]
  },
  {
   "cell_type": "markdown",
   "metadata": {},
   "source": [
    "Or if you are using ipython --pylab\n",
    "\n",
    "    plot(arange(10.), arange(10.)**2)"
   ]
  },
  {
   "cell_type": "markdown",
   "metadata": {},
   "source": [
    "### Py3D.ims\n",
    "\n",
    "`ims` is an abrviation for imshow which comes from `matplotlib.pyplot.imshow` and any key word argument (kwargs) for imshow can be used in ims. \n",
    "\n",
    "ims is an automated way to 2D data and the two required argumetns are the dictionary and the field"
   ]
  },
  {
   "cell_type": "code",
   "execution_count": null,
   "metadata": {
    "collapsed": true
   },
   "outputs": [],
   "source": [
    "Py3D.ims(d,'jz')\n",
    "plt.show()"
   ]
  },
  {
   "cell_type": "markdown",
   "metadata": {},
   "source": [
    "ims also has a few different options to make the plot prettier!\n",
    "    \n",
    "    Signature: Py3D.ims(d, k, ax=None, extent=None, cbar=None, cont=None, no_draw=None, ctargs={}, **kwargs)\n"
   ]
  },
  {
   "cell_type": "code",
   "execution_count": null,
   "metadata": {
    "collapsed": true
   },
   "outputs": [],
   "source": [
    "fig = plt.figure(1)\n",
    "fig.clf()\n",
    "ax = [fig.add_subplot(2,2,1+c) for c in range(4)]\n",
    "\n",
    "Py3D.ims(d, 'jz', ax=ax[0])\n",
    "Py3D.ims(d, 'jz', ax=ax[1], cbar=1)\n",
    "Py3D.ims(d, 'jz', ax=ax[2], cont=1)\n",
    "Py3D.ims(d, 'jz', ax=ax[3], vmin=-5., vmax=5., cmap='bwr')\n",
    "plt.show()"
   ]
  },
  {
   "cell_type": "code",
   "execution_count": null,
   "metadata": {
    "collapsed": true
   },
   "outputs": [],
   "source": []
  },
  {
   "cell_type": "markdown",
   "metadata": {},
   "source": [
    "## To be continued..."
   ]
  },
  {
   "cell_type": "markdown",
   "metadata": {},
   "source": [
    "\n",
    "\n",
    "\n",
    "\n",
    "\n",
    "\n",
    "\n",
    "\n",
    "\n",
    "\n",
    "\n",
    "\n",
    "Finsish Later!!!\n",
    "\n",
    "\n",
    "Py3D.rotate_ten\n",
    "\n",
    "Py3D.ims\n",
    "\n",
    "Py3D.date_file_prefix\n",
    "\n",
    "\n",
    "\n",
    "Py3D.load_param\n",
    "\n",
    "Py3D.readsave\n",
    "\n",
    "Py3D.multi_color\n",
    "\n",
    "## Py3D Objects\n",
    "Py3D.dumpID                    \n",
    "Py3D.Movie                     \n",
    "               \n",
    "Py3D.var_at                    \n",
    "Py3D.calc_psi                  \n",
    "Py3D.find_xpt                  \n",
    "Py3D.movie                     \n",
    "Py3D.rs3d                      \n",
    "Py3D.vdist                     \n",
    "Py3D.check_energy_conservation \n",
    "                     \n",
    "               \n",
    "Py3D.set_local                 \n",
    "Py3D.vdist_plotter             \n",
    "          \n",
    "Py3D.ims_subplot               \n",
    "Py3D.patplots                  \n",
    "Py3D.show_energy               \n",
    "Py3D.VDistPlotter              \n",
    "Py3D.dump                      \n",
    "\n",
    "Py3D.PatPlotter\n",
    "Py3D.sub\n",
    "Py3D.DumpID\n",
    "Py3D.sys"
   ]
  },
  {
   "cell_type": "code",
   "execution_count": null,
   "metadata": {
    "collapsed": true
   },
   "outputs": [],
   "source": []
  },
  {
   "cell_type": "code",
   "execution_count": null,
   "metadata": {
    "collapsed": true
   },
   "outputs": [],
   "source": []
  },
  {
   "cell_type": "code",
   "execution_count": null,
   "metadata": {
    "collapsed": true
   },
   "outputs": [],
   "source": []
  },
  {
   "cell_type": "code",
   "execution_count": null,
   "metadata": {
    "collapsed": true
   },
   "outputs": [],
   "source": []
  },
  {
   "cell_type": "code",
   "execution_count": null,
   "metadata": {
    "collapsed": true
   },
   "outputs": [],
   "source": []
  },
  {
   "cell_type": "code",
   "execution_count": null,
   "metadata": {
    "collapsed": true
   },
   "outputs": [],
   "source": []
  }
 ],
 "metadata": {
  "kernelspec": {
   "display_name": "Python 2",
   "language": "python",
   "name": "python2"
  },
  "language_info": {
   "codemirror_mode": {
    "name": "ipython",
    "version": 2
   },
   "file_extension": ".py",
   "mimetype": "text/x-python",
   "name": "python",
   "nbconvert_exporter": "python",
   "pygments_lexer": "ipython2",
   "version": "2.7.13"
  }
 },
 "nbformat": 4,
 "nbformat_minor": 2
}
