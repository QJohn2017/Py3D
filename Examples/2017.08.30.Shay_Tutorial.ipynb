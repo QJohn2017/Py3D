{
 "cells": [
  {
   "cell_type": "markdown",
   "metadata": {},
   "source": [
    "# Before you Start\n",
    "You need to have ipython installed (I have been using python 2.x but It should be compatible with python 3.x)\n",
    "\n",
    "## Installing ipython\n",
    "Look into anaconda its a distribution that contains all of the nice python stuff I use\n",
    "https://www.anaconda.com/distribution/\n",
    "\n",
    "Py3D uses a few different powerfull packages including *numpy* prounced *num-pie* For arrays and fast processing, *matplotlib* prounced mat-plot-lib for making pretty plots, *scipy* pronounced *sigh-pie* which is really (or at least was) the umbrela package for a bunch of other stuff. All of these packages are contained within anaconda which is why I am recomeding it.\n",
    "\n",
    "To get started use `ipython --pylab` in termial to start the python shell.\n",
    "\n",
    "## Getting Py3D\n",
    "You can either fork your own branch (if you are going to make edits that other people might use. Or you can just clone a branch to the machine you need it on. Either way here is the repository\n",
    "\n",
    "https://github.com/colbych/Py3D\n",
    "\n",
    "## Setting up ipython_config file\n",
    "Navigate to ~/.ipython/profile_default/startup/ and make/add the follwing text to the file ipython_config.py"
   ]
  },
  {
   "cell_type": "code",
   "execution_count": 1,
   "metadata": {
    "collapsed": true,
    "scrolled": false
   },
   "outputs": [],
   "source": [
    "import sys\n",
    "import os\n",
    "\n",
    "sys.path.append(os.path.expanduser('~/Py3D'))\n",
    "import Py3D"
   ]
  },
  {
   "cell_type": "markdown",
   "metadata": {},
   "source": [
    "# Using Py3D\n",
    "If everthing is correctly install when you start ipython Py3D should already be loaded. To test this type:"
   ]
  },
  {
   "cell_type": "code",
   "execution_count": 2,
   "metadata": {
    "collapsed": true
   },
   "outputs": [],
   "source": [
    "Py3D?"
   ]
  },
  {
   "cell_type": "markdown",
   "metadata": {},
   "source": [
    "If everthing worked correctly then you should see somthing like the following bellow:\n",
    "```\n",
    "Type:        module\n",
    "String form: <module 'Py3D' from '/glade/u/home/colbyh/Py3D/Py3D/__init__.pyc'>\n",
    "File:        ~/Py3D/Py3D/__init__.py\n",
    "Docstring:   <no docstring>\n",
    "```\n",
    "Although idealy there will be a Docstring ¯\\\\\\_(ツ)\\_/¯\n",
    "\n",
    "## Py3D functions:\n",
    "These are the functions that I most commonly use. And they can be used for basic analysis of P3D data.\n",
    "To learn more about each of these methods just execute the code in the kernal.\n",
    "\n",
    "### Py3D.load_movie"
   ]
  },
  {
   "cell_type": "code",
   "execution_count": 2,
   "metadata": {
    "collapsed": true
   },
   "outputs": [],
   "source": [
    "Py3D.load_movie?"
   ]
  },
  {
   "cell_type": "markdown",
   "metadata": {},
   "source": [
    "Try it out here: Test files can be found here: `Py3D/Py3D/tests/data/OTV_2D_test` with a param file called `param_OTV_2D_test`"
   ]
  },
  {
   "cell_type": "code",
   "execution_count": 10,
   "metadata": {},
   "outputs": [
    {
     "data": {
      "image/png": "[encoded data removed]",
      "text/plain": [
       "<matplotlib.figure.Figure at 0x11ee26ba8>"
      ]
     },
     "metadata": {},
     "output_type": "display_data"
    }
   ],
   "source": [
    "import numpy as np\n",
    "import matplotlib.pyplot as plt\n",
    "foo = np.random.rand(1000)\n",
    "bar = np.random.rand(1000)\n",
    "plt.clf()\n",
    "plt.plot(foo,bar,'kx')\n",
    "plt.show()\n",
    "plt.draw()\n"
   ]
  },
  {
   "cell_type": "code",
   "execution_count": null,
   "metadata": {
    "collapsed": true
   },
   "outputs": [],
   "source": []
  },
  {
   "cell_type": "markdown",
   "metadata": {},
   "source": [
    "## To be continued..."
   ]
  },
  {
   "cell_type": "markdown",
   "metadata": {},
   "source": [
    "\n",
    "\n",
    "\n",
    "\n",
    "\n",
    "\n",
    "\n",
    "\n",
    "\n",
    "\n",
    "\n",
    "\n",
    "Finsish Later!!!\n",
    "\n",
    "\n",
    "Py3D.rotate_ten\n",
    "\n",
    "Py3D.ims\n",
    "\n",
    "Py3D.date_file_prefix\n",
    "\n",
    "\n",
    "\n",
    "Py3D.load_param\n",
    "\n",
    "Py3D.readsave\n",
    "\n",
    "Py3D.multi_color\n",
    "\n",
    "## Py3D Objects\n",
    "Py3D.dumpID                    \n",
    "Py3D.Movie                     \n",
    "               \n",
    "Py3D.var_at                    \n",
    "Py3D.calc_psi                  \n",
    "Py3D.find_xpt                  \n",
    "Py3D.movie                     \n",
    "Py3D.rs3d                      \n",
    "Py3D.vdist                     \n",
    "Py3D.check_energy_conservation \n",
    "                     \n",
    "               \n",
    "Py3D.set_local                 \n",
    "Py3D.vdist_plotter             \n",
    "          \n",
    "Py3D.ims_subplot               \n",
    "Py3D.patplots                  \n",
    "Py3D.show_energy               \n",
    "Py3D.VDistPlotter              \n",
    "Py3D.dump                      \n",
    "\n",
    "Py3D.PatPlotter\n",
    "Py3D.sub\n",
    "Py3D.DumpID\n",
    "Py3D.sys"
   ]
  }
 ],
 "metadata": {
  "kernelspec": {
   "display_name": "Python 3",
   "language": "python",
   "name": "python3"
  },
  "language_info": {
   "codemirror_mode": {
    "name": "ipython",
    "version": 3
   },
   "file_extension": ".py",
   "mimetype": "text/x-python",
   "name": "python",
   "nbconvert_exporter": "python",
   "pygments_lexer": "ipython3",
   "version": "3.6.2"
  }
 },
 "nbformat": 4,
 "nbformat_minor": 2
}
